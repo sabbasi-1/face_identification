{
  "nbformat": 4,
  "nbformat_minor": 0,
  "metadata": {
    "colab": {
      "provenance": [],
      "gpuType": "T4"
    },
    "kernelspec": {
      "name": "python3",
      "display_name": "Python 3"
    },
    "language_info": {
      "name": "python"
    },
    "accelerator": "GPU"
  },
  "cells": [
    {
      "cell_type": "code",
      "source": [
        "import zipfile\n",
        "\n",
        "\n",
        "def unzip_file(zip_path, extract_to):\n",
        "    \"\"\"\n",
        "    Unzips a file to the specified directory.\n",
        "\n",
        "    :param zip_path: Path to the zip file\n",
        "    :param extract_to: Directory to extract the contents to\n",
        "    \"\"\"\n",
        "    with zipfile.ZipFile(zip_path, 'r') as zip_ref:\n",
        "        zip_ref.extractall(extract_to)\n",
        "zip_path = '/content/drive/MyDrive/Copy of generated_images_10Kids_cropped.zip'\n",
        "extract_to = 'images'\n",
        "unzip_file(zip_path, extract_to)\n"
      ],
      "metadata": {
        "id": "16GTFqEzIZ9H"
      },
      "execution_count": null,
      "outputs": []
    },
    {
      "cell_type": "code",
      "source": [
        "from google.colab import drive\n",
        "drive.mount('/content/drive')"
      ],
      "metadata": {
        "colab": {
          "base_uri": "https://localhost:8080/"
        },
        "id": "FvvQPZMGnhuT",
        "outputId": "b8b9d704-e5ff-4831-a0ff-e29c4867b35d"
      },
      "execution_count": null,
      "outputs": [
        {
          "output_type": "stream",
          "name": "stdout",
          "text": [
            "Mounted at /content/drive\n"
          ]
        }
      ]
    },
    {
      "cell_type": "code",
      "source": [
        "import tensorflow as tf\n",
        "from tensorflow.keras.layers import Input, Conv2D, MaxPooling2D, UpSampling2D, concatenate, Flatten, Dense\n",
        "from tensorflow.keras.models import Model\n",
        "import numpy as np\n",
        "import random\n",
        "from tensorflow.keras.preprocessing.image import load_img, img_to_array\n",
        "import os\n",
        "from sklearn.model_selection import train_test_split\n",
        "def triplet_loss(y_true, y_pred, alpha=0.2):\n",
        "    anchor, positive, negative = y_pred[:, :128], y_pred[:, 128:256], y_pred[:, 256:]\n",
        "    pos_dist = tf.reduce_sum(tf.square(anchor - positive), axis=1)\n",
        "    neg_dist = tf.reduce_sum(tf.square(anchor - negative), axis=1)\n",
        "    basic_loss = pos_dist - neg_dist + alpha\n",
        "    loss = tf.reduce_mean(tf.maximum(basic_loss, 0.0))\n",
        "    return loss\n",
        "\n",
        "def create_triplet(image_paths):\n",
        "    folders = list(image_paths.keys())\n",
        "\n",
        "    anchor_folder = random.choice(folders)\n",
        "    anchor_image = random.choice(image_paths[anchor_folder])\n",
        "\n",
        "    positive_image = random.choice(image_paths[anchor_folder])\n",
        "    while positive_image == anchor_image:\n",
        "        positive_image = random.choice(image_paths[anchor_folder])\n",
        "\n",
        "    negative_folder = random.choice(folders)\n",
        "    while negative_folder == anchor_folder:\n",
        "        negative_folder = random.choice(folders)\n",
        "    negative_image = random.choice(image_paths[negative_folder])\n",
        "\n",
        "    return anchor_image, positive_image, negative_image\n",
        "\n",
        "def load_and_preprocess_image(image_path, target_size=(128, 128)):\n",
        "    image = load_img(image_path, target_size=target_size)\n",
        "    image = img_to_array(image)\n",
        "    image = image / 255.0\n",
        "    return image\n",
        "\n",
        "def generate_triplet_batch(image_paths, batch_size=32, target_size=(128, 128)):\n",
        "    while True:\n",
        "        anchor_batch = []\n",
        "        positive_batch = []\n",
        "        negative_batch = []\n",
        "\n",
        "        for _ in range(batch_size):\n",
        "            anchor_image, positive_image, negative_image = create_triplet(image_paths)\n",
        "            anchor_batch.append(load_and_preprocess_image(anchor_image, target_size))\n",
        "            positive_batch.append(load_and_preprocess_image(positive_image, target_size))\n",
        "            negative_batch.append(load_and_preprocess_image(negative_image, target_size))\n",
        "\n",
        "        yield [np.array(anchor_batch), np.array(positive_batch), np.array(negative_batch)], np.zeros(batch_size)\n",
        "\n",
        "def split_data(data_dir, test_size=0.2):\n",
        "    folders = os.listdir(data_dir)\n",
        "    train_folders, val_folders = train_test_split(folders, test_size=test_size, random_state=42)\n",
        "\n",
        "    train_image_paths = {folder: [os.path.join(data_dir, folder, img) for img in os.listdir(os.path.join(data_dir, folder))] for folder in train_folders}\n",
        "    val_image_paths = {folder: [os.path.join(data_dir, folder, img) for img in os.listdir(os.path.join(data_dir, folder))] for folder in val_folders}\n",
        "\n",
        "    return train_image_paths, val_image_paths\n",
        "\n",
        "data_dir = '/content/images/generated_images_10Kids_cropped'\n",
        "train_image_paths, val_image_paths = split_data(data_dir)\n",
        "train_generator = generate_triplet_batch(train_image_paths, batch_size=32, target_size=(128, 128))\n",
        "val_generator = generate_triplet_batch(val_image_paths, batch_size=32, target_size=(128, 128))"
      ],
      "metadata": {
        "id": "Xlj5ua-efJ5T"
      },
      "execution_count": null,
      "outputs": []
    },
    {
      "cell_type": "code",
      "source": [
        "import tensorflow as tf\n",
        "from tensorflow.keras.layers import Input, Conv2D, MaxPooling2D, UpSampling2D, concatenate, Flatten, Dense\n",
        "from tensorflow.keras.models import Model\n",
        "\n",
        "def unet_embedding(input_shape=(128, 128, 3), embedding_dim=128):\n",
        "    inputs = Input(shape=input_shape)\n",
        "\n",
        "    conv1 = Conv2D(64, (3, 3), activation='relu', padding='same')(inputs)\n",
        "    conv1 = Conv2D(64, (3, 3), activation='relu', padding='same')(conv1)\n",
        "    pool1 = MaxPooling2D(pool_size=(2, 2))(conv1)\n",
        "\n",
        "    conv2 = Conv2D(128, (3, 3), activation='relu', padding='same')(pool1)\n",
        "    conv2 = Conv2D(128, (3, 3), activation='relu', padding='same')(conv2)\n",
        "    pool2 = MaxPooling2D(pool_size=(2, 2))(conv2)\n",
        "\n",
        "    conv3 = Conv2D(256, (3, 3), activation='relu', padding='same')(pool2)\n",
        "    conv3 = Conv2D(256, (3, 3), activation='relu', padding='same')(conv3)\n",
        "    pool3 = MaxPooling2D(pool_size=(2, 2))(conv3)\n",
        "\n",
        "    conv4 = Conv2D(512, (3, 3), activation='relu', padding='same')(pool3)\n",
        "    conv4 = Conv2D(512, (3, 3), activation='relu', padding='same')(conv4)\n",
        "    pool4 = MaxPooling2D(pool_size=(2, 2))(conv4)\n",
        "\n",
        "    bottleneck = Conv2D(512, (3, 3), activation='relu', padding='same')(pool4)\n",
        "    bottleneck = Conv2D(512, (3, 3), activation='relu', padding='same')(bottleneck)\n",
        "\n",
        "\n",
        "    up6 = UpSampling2D(size=(2, 2))(bottleneck)\n",
        "    up6 = concatenate([up6, conv4], axis=-1)\n",
        "    conv6 = Conv2D(512, (3, 3), activation='relu', padding='same')(up6)\n",
        "    conv6 = Conv2D(512, (3, 3), activation='relu', padding='same')(conv6)\n",
        "\n",
        "    up7 = UpSampling2D(size=(2, 2))(conv6)\n",
        "    up7 = concatenate([up7, conv3], axis=-1)\n",
        "    conv7 = Conv2D(256, (3, 3), activation='relu', padding='same')(up7)\n",
        "    conv7 = Conv2D(256, (3, 3), activation='relu', padding='same')(conv7)\n",
        "\n",
        "    up8 = UpSampling2D(size=(2, 2))(conv7)\n",
        "    up8 = concatenate([up8, conv2], axis=-1)\n",
        "    conv8 = Conv2D(128, (3, 3), activation='relu', padding='same')(up8)\n",
        "    conv8 = Conv2D(128, (3, 3), activation='relu', padding='same')(conv8)\n",
        "\n",
        "    up9 = UpSampling2D(size=(2, 2))(conv8)\n",
        "    up9 = concatenate([up9, conv1], axis=-1)\n",
        "    conv9 = Conv2D(64, (3, 3), activation='relu', padding='same')(up9)\n",
        "    conv9 = Conv2D(64, (3, 3), activation='relu', padding='same')(conv9)\n",
        "    flatten = Flatten()(conv9)\n",
        "    embeddings = Dense(embedding_dim, activation=None)(flatten)\n",
        "\n",
        "    model = Model(inputs=[inputs], outputs=[embeddings])\n",
        "\n",
        "    return model\n",
        "\n",
        "input_shape = (128, 128, 3)\n",
        "embedding_dim = 128\n",
        "unet_model = unet_embedding(input_shape=input_shape, embedding_dim=embedding_dim)\n",
        "unet_model.summary()\n"
      ],
      "metadata": {
        "colab": {
          "base_uri": "https://localhost:8080/"
        },
        "id": "PF5ZnOlTfhWh",
        "outputId": "4a68c7ad-f160-475c-f05e-b4490f05d739"
      },
      "execution_count": null,
      "outputs": [
        {
          "output_type": "stream",
          "name": "stdout",
          "text": [
            "Model: \"model\"\n",
            "__________________________________________________________________________________________________\n",
            " Layer (type)                Output Shape                 Param #   Connected to                  \n",
            "==================================================================================================\n",
            " input_1 (InputLayer)        [(None, 128, 128, 3)]        0         []                            \n",
            "                                                                                                  \n",
            " conv2d (Conv2D)             (None, 128, 128, 64)         1792      ['input_1[0][0]']             \n",
            "                                                                                                  \n",
            " conv2d_1 (Conv2D)           (None, 128, 128, 64)         36928     ['conv2d[0][0]']              \n",
            "                                                                                                  \n",
            " max_pooling2d (MaxPooling2  (None, 64, 64, 64)           0         ['conv2d_1[0][0]']            \n",
            " D)                                                                                               \n",
            "                                                                                                  \n",
            " conv2d_2 (Conv2D)           (None, 64, 64, 128)          73856     ['max_pooling2d[0][0]']       \n",
            "                                                                                                  \n",
            " conv2d_3 (Conv2D)           (None, 64, 64, 128)          147584    ['conv2d_2[0][0]']            \n",
            "                                                                                                  \n",
            " max_pooling2d_1 (MaxPoolin  (None, 32, 32, 128)          0         ['conv2d_3[0][0]']            \n",
            " g2D)                                                                                             \n",
            "                                                                                                  \n",
            " conv2d_4 (Conv2D)           (None, 32, 32, 256)          295168    ['max_pooling2d_1[0][0]']     \n",
            "                                                                                                  \n",
            " conv2d_5 (Conv2D)           (None, 32, 32, 256)          590080    ['conv2d_4[0][0]']            \n",
            "                                                                                                  \n",
            " max_pooling2d_2 (MaxPoolin  (None, 16, 16, 256)          0         ['conv2d_5[0][0]']            \n",
            " g2D)                                                                                             \n",
            "                                                                                                  \n",
            " conv2d_6 (Conv2D)           (None, 16, 16, 512)          1180160   ['max_pooling2d_2[0][0]']     \n",
            "                                                                                                  \n",
            " conv2d_7 (Conv2D)           (None, 16, 16, 512)          2359808   ['conv2d_6[0][0]']            \n",
            "                                                                                                  \n",
            " max_pooling2d_3 (MaxPoolin  (None, 8, 8, 512)            0         ['conv2d_7[0][0]']            \n",
            " g2D)                                                                                             \n",
            "                                                                                                  \n",
            " conv2d_8 (Conv2D)           (None, 8, 8, 512)            2359808   ['max_pooling2d_3[0][0]']     \n",
            "                                                                                                  \n",
            " conv2d_9 (Conv2D)           (None, 8, 8, 512)            2359808   ['conv2d_8[0][0]']            \n",
            "                                                                                                  \n",
            " up_sampling2d (UpSampling2  (None, 16, 16, 512)          0         ['conv2d_9[0][0]']            \n",
            " D)                                                                                               \n",
            "                                                                                                  \n",
            " concatenate (Concatenate)   (None, 16, 16, 1024)         0         ['up_sampling2d[0][0]',       \n",
            "                                                                     'conv2d_7[0][0]']            \n",
            "                                                                                                  \n",
            " conv2d_10 (Conv2D)          (None, 16, 16, 512)          4719104   ['concatenate[0][0]']         \n",
            "                                                                                                  \n",
            " conv2d_11 (Conv2D)          (None, 16, 16, 512)          2359808   ['conv2d_10[0][0]']           \n",
            "                                                                                                  \n",
            " up_sampling2d_1 (UpSamplin  (None, 32, 32, 512)          0         ['conv2d_11[0][0]']           \n",
            " g2D)                                                                                             \n",
            "                                                                                                  \n",
            " concatenate_1 (Concatenate  (None, 32, 32, 768)          0         ['up_sampling2d_1[0][0]',     \n",
            " )                                                                   'conv2d_5[0][0]']            \n",
            "                                                                                                  \n",
            " conv2d_12 (Conv2D)          (None, 32, 32, 256)          1769728   ['concatenate_1[0][0]']       \n",
            "                                                                                                  \n",
            " conv2d_13 (Conv2D)          (None, 32, 32, 256)          590080    ['conv2d_12[0][0]']           \n",
            "                                                                                                  \n",
            " up_sampling2d_2 (UpSamplin  (None, 64, 64, 256)          0         ['conv2d_13[0][0]']           \n",
            " g2D)                                                                                             \n",
            "                                                                                                  \n",
            " concatenate_2 (Concatenate  (None, 64, 64, 384)          0         ['up_sampling2d_2[0][0]',     \n",
            " )                                                                   'conv2d_3[0][0]']            \n",
            "                                                                                                  \n",
            " conv2d_14 (Conv2D)          (None, 64, 64, 128)          442496    ['concatenate_2[0][0]']       \n",
            "                                                                                                  \n",
            " conv2d_15 (Conv2D)          (None, 64, 64, 128)          147584    ['conv2d_14[0][0]']           \n",
            "                                                                                                  \n",
            " up_sampling2d_3 (UpSamplin  (None, 128, 128, 128)        0         ['conv2d_15[0][0]']           \n",
            " g2D)                                                                                             \n",
            "                                                                                                  \n",
            " concatenate_3 (Concatenate  (None, 128, 128, 192)        0         ['up_sampling2d_3[0][0]',     \n",
            " )                                                                   'conv2d_1[0][0]']            \n",
            "                                                                                                  \n",
            " conv2d_16 (Conv2D)          (None, 128, 128, 64)         110656    ['concatenate_3[0][0]']       \n",
            "                                                                                                  \n",
            " conv2d_17 (Conv2D)          (None, 128, 128, 64)         36928     ['conv2d_16[0][0]']           \n",
            "                                                                                                  \n",
            " flatten (Flatten)           (None, 1048576)              0         ['conv2d_17[0][0]']           \n",
            "                                                                                                  \n",
            " dense (Dense)               (None, 128)                  1342178   ['flatten[0][0]']             \n",
            "                                                          56                                      \n",
            "                                                                                                  \n",
            "==================================================================================================\n",
            "Total params: 153799232 (586.70 MB)\n",
            "Trainable params: 153799232 (586.70 MB)\n",
            "Non-trainable params: 0 (0.00 Byte)\n",
            "__________________________________________________________________________________________________\n"
          ]
        }
      ]
    },
    {
      "cell_type": "code",
      "source": [
        "input_shape = (128, 128, 3)\n",
        "embedding_dim = 128\n",
        "\n",
        "unet_model = unet_embedding(input_shape=input_shape, embedding_dim=embedding_dim)\n",
        "\n",
        "anchor_input = Input(shape=input_shape)\n",
        "positive_input = Input(shape=input_shape)\n",
        "negative_input = Input(shape=input_shape)\n",
        "\n",
        "anchor_embedding = unet_model(anchor_input)\n",
        "positive_embedding = unet_model(positive_input)\n",
        "negative_embedding = unet_model(negative_input)\n",
        "\n",
        "merged_output = tf.keras.layers.concatenate([anchor_embedding, positive_embedding, negative_embedding], axis=1)\n",
        "triplet_model = Model(inputs=[anchor_input, positive_input, negative_input], outputs=merged_output)\n",
        "\n",
        "triplet_model.compile(optimizer='adam', loss=triplet_loss)\n",
        "\n",
        "history = triplet_model.fit(\n",
        "    train_generator,\n",
        "    steps_per_epoch=100,\n",
        "    epochs=10,\n",
        "    validation_data=val_generator,\n",
        "    validation_steps=20\n",
        ")\n",
        "\n",
        "import matplotlib.pyplot as plt\n",
        "\n",
        "plt.plot(history.history['loss'], label='Training Loss')\n",
        "plt.plot(history.history['val_loss'], label='Validation Loss')\n",
        "plt.title('Model Loss')\n",
        "plt.ylabel('Loss')\n",
        "plt.xlabel('Epoch')\n",
        "plt.legend()\n",
        "plt.show()"
      ],
      "metadata": {
        "id": "O_9S_exofmXP",
        "colab": {
          "base_uri": "https://localhost:8080/",
          "height": 819
        },
        "outputId": "a1720dbb-3f4c-4907-b336-14059d9c6e47"
      },
      "execution_count": null,
      "outputs": [
        {
          "output_type": "stream",
          "name": "stdout",
          "text": [
            "Epoch 1/10\n",
            "100/100 [==============================] - 146s 1s/step - loss: 39.0976 - val_loss: 0.0574\n",
            "Epoch 2/10\n",
            "100/100 [==============================] - 118s 1s/step - loss: 0.0892 - val_loss: 0.0755\n",
            "Epoch 3/10\n",
            "100/100 [==============================] - 115s 1s/step - loss: 0.0670 - val_loss: 0.0476\n",
            "Epoch 4/10\n",
            "100/100 [==============================] - 118s 1s/step - loss: 0.0523 - val_loss: 0.1114\n",
            "Epoch 5/10\n",
            "100/100 [==============================] - 118s 1s/step - loss: 0.0800 - val_loss: 0.0504\n",
            "Epoch 6/10\n",
            "100/100 [==============================] - 118s 1s/step - loss: 0.0452 - val_loss: 0.0396\n",
            "Epoch 7/10\n",
            "100/100 [==============================] - 115s 1s/step - loss: 0.0465 - val_loss: 0.0436\n",
            "Epoch 8/10\n",
            "100/100 [==============================] - 118s 1s/step - loss: 0.0432 - val_loss: 0.0387\n",
            "Epoch 9/10\n",
            "100/100 [==============================] - 115s 1s/step - loss: 0.0377 - val_loss: 0.0327\n",
            "Epoch 10/10\n",
            "100/100 [==============================] - 118s 1s/step - loss: 0.0810 - val_loss: 0.0482\n"
          ]
        },
        {
          "output_type": "display_data",
          "data": {
            "text/plain": [
              "<Figure size 640x480 with 1 Axes>"
            ],
            "image/png": "[encoded data removed]"
          },
          "metadata": {}
        }
      ]
    },
    {
      "cell_type": "code",
      "source": [
        "unet_model.save('unet_triplet_model.keras')"
      ],
      "metadata": {
        "id": "sIWTmws3gHFD"
      },
      "execution_count": null,
      "outputs": []
    },
    {
      "cell_type": "code",
      "source": [
        "from tensorflow.keras.models import load_model\n",
        "\n",
        "unet_model = load_model('unet_triplet_model.keras', compile=False)"
      ],
      "metadata": {
        "id": "YTqhCf1cogiO"
      },
      "execution_count": null,
      "outputs": []
    },
    {
      "cell_type": "code",
      "source": [
        "import numpy as np\n",
        "from tensorflow.keras.preprocessing.image import load_img, img_to_array\n",
        "\n",
        "def load_and_preprocess_image(image_path, target_size=(128, 128)):\n",
        "    image = load_img(image_path, target_size=target_size)\n",
        "    image = img_to_array(image)\n",
        "    image = image / 255.0\n",
        "    return np.expand_dims(image, axis=0)\n",
        "\n",
        "def get_embedding(model, image_path):\n",
        "    image = load_and_preprocess_image(image_path)\n",
        "    embedding = model.predict(image)\n",
        "    return embedding[0]\n",
        "\n",
        "def euclidean_distance(embedding1, embedding2):\n",
        "    return np.linalg.norm(embedding1 - embedding2)\n",
        "\n",
        "def distance_to_probability(distance, scale=1.0):\n",
        "    return np.exp(-distance / scale)\n",
        "def compare_faces(model, image1_path, image2_path, threshold=0.5):\n",
        "    embedding1 = get_embedding(model, image1_path)\n",
        "    embedding2 = get_embedding(model, image2_path)\n",
        "\n",
        "    distance = euclidean_distance(embedding1, embedding2)\n",
        "    probability = distance_to_probability(distance)\n",
        "\n",
        "    if probability > threshold:\n",
        "        print(f'Probability: {probability:.4f} - The faces are the same.')\n",
        "    else:\n",
        "        print(f'Probability: {probability:.4f} - The faces are different.')\n",
        "\n",
        "    return probability\n",
        "image1_path = '/content/images/generated_images_10Kids_cropped/00001/002_00001.png'\n",
        "image2_path = '/content/images/generated_images_10Kids_cropped/00001/003_00001.png'\n",
        "compare_faces(unet_model, image1_path, image2_path)\n"
      ],
      "metadata": {
        "colab": {
          "base_uri": "https://localhost:8080/"
        },
        "id": "JrrNnmqKompy",
        "outputId": "c8dedaea-cbc3-4157-8ae0-c38103a8dc2c"
      },
      "execution_count": null,
      "outputs": [
        {
          "output_type": "stream",
          "name": "stdout",
          "text": [
            "1/1 [==============================] - 0s 19ms/step\n",
            "1/1 [==============================] - 0s 18ms/step\n",
            "Probability: 0.7588 - The faces are the same.\n"
          ]
        },
        {
          "output_type": "execute_result",
          "data": {
            "text/plain": [
              "0.7587741080974431"
            ]
          },
          "metadata": {},
          "execution_count": 18
        }
      ]
    },
    {
      "cell_type": "code",
      "source": [
        "import zipfile\n",
        "\n",
        "def zip_model_file(model_file_path, zip_file_path):\n",
        "    with zipfile.ZipFile(zip_file_path, 'w', zipfile.ZIP_DEFLATED) as zipf:\n",
        "        zipf.write(model_file_path, arcname=os.path.basename(model_file_path))\n",
        "model_file_path = 'unet_triplet_model.keras'\n",
        "zip_file_path = 'unet_triplet_model.zip'\n",
        "\n",
        "zip_model_file(model_file_path, zip_file_path)\n"
      ],
      "metadata": {
        "id": "M5VwPwd9pprK"
      },
      "execution_count": null,
      "outputs": []
    },
    {
      "cell_type": "code",
      "source": [],
      "metadata": {
        "id": "QMowGnlswmJS"
      },
      "execution_count": null,
      "outputs": []
    }
  ]
}